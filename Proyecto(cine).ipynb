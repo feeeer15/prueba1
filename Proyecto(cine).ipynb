{
 "cells": [
  {
   "cell_type": "code",
   "execution_count": 4,
   "metadata": {},
   "outputs": [],
   "source": [
    "class Persona:\n",
    "\n",
    "    lista=[]\n",
    "\n",
    "    def __init__(self, nombre, contacto):\n",
    "        self.nombre = nombre\n",
    "        self.contacto = contacto\n",
    "\n",
    "    def registrar(self):\n",
    "        Persona.lista.append(self)\n",
    "        print(f\"La persona {self.nombre} ha sido registrada con el correo {self.contacto}\")\n",
    "\n",
    "    def actualizar_datos(self, nombre, contacto):\n",
    "        self.nombre = nombre\n",
    "        self.contacto = contacto\n",
    "        print(f\"Los datos han sido actualizados\")\n",
    "\n",
    "    @classmethod\n",
    "    def personas_registradas(cls):\n",
    "        print(\"Personas registradas\")\n",
    "        for Persona in cls.lista:\n",
    "            print(f\"-{Persona.nombre} - {Persona.contacto}\")"
   ]
  },
  {
   "cell_type": "code",
   "execution_count": 10,
   "metadata": {},
   "outputs": [
    {
     "name": "stdout",
     "output_type": "stream",
     "text": [
      "La persona Feeer ha sido registrada con el correo feeeer@gmail.com\n"
     ]
    }
   ],
   "source": [
    "persona1=Persona(\"Feeer\", \"feeeer@gmail.com\")\n",
    "persona1.registrar()"
   ]
  },
  {
   "cell_type": "code",
   "execution_count": 11,
   "metadata": {},
   "outputs": [],
   "source": [
    "class Usuario(Persona):\n",
    "    def __init__(self, nombre, contacto, num_reservas):\n",
    "        super().__init__(nombre, contacto)\n",
    "        self.num_reservas = num_reservas\n",
    "\n",
    "    def reserva(self):\n",
    "        pass\n",
    "\n",
    "    def cancelar_reserva(self):\n",
    "        pass\n",
    "\n",
    "    def acceder_promo(self):\n",
    "        pass\n"
   ]
  },
  {
   "cell_type": "code",
   "execution_count": 12,
   "metadata": {},
   "outputs": [],
   "source": [
    "class Empleado(Persona):\n",
    "    def __init__(self, nombre, contacto, rol):\n",
    "        super().__init__(nombre, contacto)\n",
    "        self.rol = rol\n",
    "\n",
    "    def agregar_funcion(self):\n",
    "        pass\n",
    "\n",
    "    def agregar_pelicula(self):\n",
    "        pass\n",
    "\n",
    "    def agregar_promo(self):\n",
    "        pass\n"
   ]
  },
  {
   "cell_type": "code",
   "execution_count": null,
   "metadata": {},
   "outputs": [],
   "source": [
    "class Reservar(Usuario):\n",
    "    def __init__(self, nombre, contacto, num_reservas, usuario, funcion, asiento):\n",
    "        super().__init__(nombre, contacto, num_reservas)\n",
    "        self.usuario = usuario\n",
    "        self.funcion = funcion\n",
    "        self.asiento = asiento \n",
    "\n",
    "    def confirmar_reserva(self):\n",
    "        pass\n",
    "\n",
    "    def cancelar_reserva(self):\n",
    "        pass\n",
    "         "
   ]
  },
  {
   "cell_type": "code",
   "execution_count": 5,
   "metadata": {},
   "outputs": [],
   "source": [
    "class Espacio:\n",
    "    def __init__(self, tamaño, identificador):\n",
    "        self.tamaño = tamaño\n",
    "        self.identificador = identificador\n",
    "\n",
    "    def descripcion(self):\n",
    "        print(f\" El edificio tiene tamaño {self.tamaño} y tiene id {self.identificador}\")"
   ]
  },
  {
   "cell_type": "code",
   "execution_count": 7,
   "metadata": {},
   "outputs": [],
   "source": [
    "class Sala(Espacio):\n",
    "    def __init__(self, tamaño, identificador, tipo):\n",
    "        super().__init__(tamaño, identificador)\n",
    "        self.tipo = tipo\n",
    "        self.disponibilidad = True\n",
    "\n",
    "    def consultar_disponibilidad(self):\n",
    "        if self.disponibilidad:\n",
    "            print(\"La sala está disponible\")\n",
    "        else:\n",
    "            print(\"La sala está ocupada\")"
   ]
  },
  {
   "cell_type": "code",
   "execution_count": 8,
   "metadata": {},
   "outputs": [
    {
     "name": "stdout",
     "output_type": "stream",
     "text": [
      "La sala está disponible\n"
     ]
    }
   ],
   "source": [
    "sala1=Sala(100, \"sala cine\", \"3d\")\n",
    "sala1.consultar_disponibilidad()"
   ]
  },
  {
   "cell_type": "code",
   "execution_count": null,
   "metadata": {},
   "outputs": [],
   "source": [
    "class Zona_de_comida(Espacio):\n",
    "    def __init__(self, tamaño, identificador, productos, precio):\n",
    "        super().__init__(tamaño, identificador)\n",
    "        self.productos = productos\n",
    "        self.precio = precio\n",
    "        \n"
   ]
  }
 ],
 "metadata": {
  "kernelspec": {
   "display_name": "Python 3",
   "language": "python",
   "name": "python3"
  },
  "language_info": {
   "codemirror_mode": {
    "name": "ipython",
    "version": 3
   },
   "file_extension": ".py",
   "mimetype": "text/x-python",
   "name": "python",
   "nbconvert_exporter": "python",
   "pygments_lexer": "ipython3",
   "version": "3.13.1"
  }
 },
 "nbformat": 4,
 "nbformat_minor": 2
}
